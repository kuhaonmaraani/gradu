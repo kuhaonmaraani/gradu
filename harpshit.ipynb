{
 "cells": [
  {
   "cell_type": "code",
   "execution_count": 4,
   "metadata": {},
   "outputs": [],
   "source": [
    "import harp\n",
    "import numpy as np\n",
    "import matplotlib.pyplot as plt\n",
    "from matplotlib.animation import FuncAnimation\n",
    "from datetime import timedelta\n",
    "from scipy.interpolate import griddata\n",
    "\n",
    "# import cartopy.crs as ccrs\n",
    "# import cartopy.feature as cfeature"
   ]
  },
  {
   "cell_type": "code",
   "execution_count": 5,
   "metadata": {},
   "outputs": [
    {
     "ename": "CLibraryError",
     "evalue": "data/los_20230321.001.h5: unsupported product",
     "output_type": "error",
     "traceback": [
      "\u001b[1;31m---------------------------------------------------------------------------\u001b[0m",
      "\u001b[1;31mCLibraryError\u001b[0m                             Traceback (most recent call last)",
      "Cell \u001b[1;32mIn[5], line 3\u001b[0m\n\u001b[0;32m      1\u001b[0m path \u001b[38;5;241m=\u001b[39m \u001b[38;5;124m'\u001b[39m\u001b[38;5;124mdata/los_20230321.001.h5\u001b[39m\u001b[38;5;124m'\u001b[39m\n\u001b[1;32m----> 3\u001b[0m product \u001b[38;5;241m=\u001b[39m harp\u001b[38;5;241m.\u001b[39mimport_product(path)\n",
      "File \u001b[1;32mc:\\Users\\virtanem\\Anaconda3\\envs\\gradu_harp\\Lib\\site-packages\\harp\\_harppy.py:1315\u001b[0m, in \u001b[0;36mimport_product\u001b[1;34m(filename, operations, options, reduce_operations, post_operations)\u001b[0m\n\u001b[0;32m   1312\u001b[0m \u001b[38;5;66;03m# Import the product as a C product.\u001b[39;00m\n\u001b[0;32m   1313\u001b[0m \u001b[38;5;28;01mif\u001b[39;00m _lib\u001b[38;5;241m.\u001b[39mharp_import(_encode_path(filename), _encode_string(operations), _encode_string(options),\n\u001b[0;32m   1314\u001b[0m                     c_product_ptr) \u001b[38;5;241m!=\u001b[39m \u001b[38;5;241m0\u001b[39m:\n\u001b[1;32m-> 1315\u001b[0m     \u001b[38;5;28;01mraise\u001b[39;00m CLibraryError()\n\u001b[0;32m   1317\u001b[0m \u001b[38;5;28;01mtry\u001b[39;00m:\n\u001b[0;32m   1318\u001b[0m     \u001b[38;5;66;03m# Raise an exception if the imported C product contains no variables, or variables without data.\u001b[39;00m\n\u001b[0;32m   1319\u001b[0m     \u001b[38;5;28;01mif\u001b[39;00m _lib\u001b[38;5;241m.\u001b[39mharp_product_is_empty(c_product_ptr[\u001b[38;5;241m0\u001b[39m]) \u001b[38;5;241m==\u001b[39m \u001b[38;5;241m1\u001b[39m:\n",
      "\u001b[1;31mCLibraryError\u001b[0m: data/los_20230321.001.h5: unsupported product"
     ]
    }
   ],
   "source": [
    "path = 'data/los_20230321.001.h5'\n",
    "\n",
    "product = harp.import_product(path)"
   ]
  }
 ],
 "metadata": {
  "kernelspec": {
   "display_name": "gradu_cartopy",
   "language": "python",
   "name": "python3"
  },
  "language_info": {
   "codemirror_mode": {
    "name": "ipython",
    "version": 3
   },
   "file_extension": ".py",
   "mimetype": "text/x-python",
   "name": "python",
   "nbconvert_exporter": "python",
   "pygments_lexer": "ipython3",
   "version": "3.12.3"
  }
 },
 "nbformat": 4,
 "nbformat_minor": 2
}
