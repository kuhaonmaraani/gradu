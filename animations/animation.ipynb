{
 "cells": [
  {
   "cell_type": "markdown",
   "metadata": {},
   "source": [
    "Import libraries"
   ]
  },
  {
   "cell_type": "code",
   "execution_count": 1,
   "metadata": {},
   "outputs": [],
   "source": [
    "import h5py\n",
    "import pandas as pd\n",
    "import numpy as np\n",
    "import matplotlib.pyplot as plt\n",
    "import seaborn as sns\n",
    "from matplotlib.animation import ArtistAnimation\n",
    "from matplotlib.animation import FuncAnimation\n",
    "import io\n",
    "from PIL import Image"
   ]
  },
  {
   "cell_type": "markdown",
   "metadata": {},
   "source": [
    "Read the files into pandas dataframes"
   ]
  },
  {
   "cell_type": "code",
   "execution_count": 2,
   "metadata": {},
   "outputs": [],
   "source": [
    "path = 'data/gps230120g002.hdf5'\n",
    "\n",
    "file = h5py.File(path, 'r')\n",
    "dataset = file['Data'].get('Table Layout') # type: ignore\n",
    "data_array = np.array(dataset)\n",
    "\n",
    "file.close()\n",
    "\n",
    "df = pd.DataFrame(data_array)\n",
    "df['minute'] = df['min']\n",
    "df['second'] = df['sec']\n",
    "df['datetime'] = pd.to_datetime(df[['year', 'month', 'day', 'hour', 'minute', 'second']])\n",
    "df = df.drop(['recno','kindat','kinst','ut1_unix','ut2_unix', 'year', 'month', 'day', 'hour', 'minute', 'second', 'min', 'sec'], axis=1)"
   ]
  },
  {
   "cell_type": "code",
   "execution_count": 3,
   "metadata": {},
   "outputs": [],
   "source": [
    "path = 'data/gps230121g002.hdf5'\n",
    "\n",
    "file = h5py.File(path, 'r')\n",
    "\n",
    "dataset = file['Data'].get('Table Layout') # type: ignore\n",
    "data_array = np.array(dataset)\n",
    "\n",
    "file.close()\n",
    "\n",
    "df2 = pd.DataFrame(data_array)\n",
    "df2['minute'] = df2['min']\n",
    "df2['second'] = df2['sec']\n",
    "df2['datetime'] = pd.to_datetime(df2[['year', 'month', 'day', 'hour', 'minute', 'second']])\n",
    "df2 = df2.drop(['recno','kindat','kinst','ut1_unix','ut2_unix', 'year', 'month', 'day', 'hour', 'minute', 'second', 'min', 'sec'], axis=1)"
   ]
  },
  {
   "cell_type": "code",
   "execution_count": 4,
   "metadata": {},
   "outputs": [],
   "source": [
    "path = 'data/gps230122g002.hdf5'\n",
    "\n",
    "file = h5py.File(path, 'r')\n",
    "\n",
    "dataset = file['Data'].get('Table Layout') # type: ignore\n",
    "data_array = np.array(dataset)\n",
    "\n",
    "file.close()\n",
    "\n",
    "df3 = pd.DataFrame(data_array)\n",
    "df3['minute'] = df3['min']\n",
    "df3['second'] = df3['sec']\n",
    "df3['datetime'] = pd.to_datetime(df3[['year', 'month', 'day', 'hour', 'minute', 'second']])\n",
    "df3 = df3.drop(['recno','kindat','kinst','ut1_unix','ut2_unix', 'year', 'month', 'day', 'hour', 'minute', 'second', 'min', 'sec'], axis=1)"
   ]
  },
  {
   "cell_type": "markdown",
   "metadata": {},
   "source": [
    "Join the dataframes"
   ]
  },
  {
   "cell_type": "code",
   "execution_count": 5,
   "metadata": {},
   "outputs": [
    {
     "data": {
      "text/html": [
       "<div>\n",
       "<style scoped>\n",
       "    .dataframe tbody tr th:only-of-type {\n",
       "        vertical-align: middle;\n",
       "    }\n",
       "\n",
       "    .dataframe tbody tr th {\n",
       "        vertical-align: top;\n",
       "    }\n",
       "\n",
       "    .dataframe thead th {\n",
       "        text-align: right;\n",
       "    }\n",
       "</style>\n",
       "<table border=\"1\" class=\"dataframe\">\n",
       "  <thead>\n",
       "    <tr style=\"text-align: right;\">\n",
       "      <th></th>\n",
       "      <th>gdlat</th>\n",
       "      <th>glon</th>\n",
       "      <th>tec</th>\n",
       "      <th>dtec</th>\n",
       "      <th>datetime</th>\n",
       "    </tr>\n",
       "  </thead>\n",
       "  <tbody>\n",
       "    <tr>\n",
       "      <th>12518</th>\n",
       "      <td>55.0</td>\n",
       "      <td>0.0</td>\n",
       "      <td>1.133664</td>\n",
       "      <td>0.584799</td>\n",
       "      <td>2023-01-20 00:02:30</td>\n",
       "    </tr>\n",
       "    <tr>\n",
       "      <th>12519</th>\n",
       "      <td>55.0</td>\n",
       "      <td>1.0</td>\n",
       "      <td>2.181003</td>\n",
       "      <td>0.375808</td>\n",
       "      <td>2023-01-20 00:02:30</td>\n",
       "    </tr>\n",
       "    <tr>\n",
       "      <th>12520</th>\n",
       "      <td>55.0</td>\n",
       "      <td>2.0</td>\n",
       "      <td>2.382829</td>\n",
       "      <td>0.433729</td>\n",
       "      <td>2023-01-20 00:02:30</td>\n",
       "    </tr>\n",
       "    <tr>\n",
       "      <th>12521</th>\n",
       "      <td>55.0</td>\n",
       "      <td>3.0</td>\n",
       "      <td>1.784594</td>\n",
       "      <td>0.654404</td>\n",
       "      <td>2023-01-20 00:02:30</td>\n",
       "    </tr>\n",
       "    <tr>\n",
       "      <th>12522</th>\n",
       "      <td>55.0</td>\n",
       "      <td>4.0</td>\n",
       "      <td>2.824801</td>\n",
       "      <td>0.306907</td>\n",
       "      <td>2023-01-20 00:02:30</td>\n",
       "    </tr>\n",
       "    <tr>\n",
       "      <th>...</th>\n",
       "      <td>...</td>\n",
       "      <td>...</td>\n",
       "      <td>...</td>\n",
       "      <td>...</td>\n",
       "      <td>...</td>\n",
       "    </tr>\n",
       "    <tr>\n",
       "      <th>13272639</th>\n",
       "      <td>75.0</td>\n",
       "      <td>26.0</td>\n",
       "      <td>1.600981</td>\n",
       "      <td>1.305146</td>\n",
       "      <td>2023-01-22 23:57:30</td>\n",
       "    </tr>\n",
       "    <tr>\n",
       "      <th>13272640</th>\n",
       "      <td>75.0</td>\n",
       "      <td>27.0</td>\n",
       "      <td>3.044224</td>\n",
       "      <td>0.496190</td>\n",
       "      <td>2023-01-22 23:57:30</td>\n",
       "    </tr>\n",
       "    <tr>\n",
       "      <th>13272641</th>\n",
       "      <td>75.0</td>\n",
       "      <td>28.0</td>\n",
       "      <td>3.072824</td>\n",
       "      <td>0.493060</td>\n",
       "      <td>2023-01-22 23:57:30</td>\n",
       "    </tr>\n",
       "    <tr>\n",
       "      <th>13272642</th>\n",
       "      <td>75.0</td>\n",
       "      <td>29.0</td>\n",
       "      <td>3.869632</td>\n",
       "      <td>0.923307</td>\n",
       "      <td>2023-01-22 23:57:30</td>\n",
       "    </tr>\n",
       "    <tr>\n",
       "      <th>13272643</th>\n",
       "      <td>75.0</td>\n",
       "      <td>30.0</td>\n",
       "      <td>2.185429</td>\n",
       "      <td>0.999940</td>\n",
       "      <td>2023-01-22 23:57:30</td>\n",
       "    </tr>\n",
       "  </tbody>\n",
       "</table>\n",
       "<p>525428 rows × 5 columns</p>\n",
       "</div>"
      ],
      "text/plain": [
       "          gdlat  glon       tec      dtec            datetime\n",
       "12518      55.0   0.0  1.133664  0.584799 2023-01-20 00:02:30\n",
       "12519      55.0   1.0  2.181003  0.375808 2023-01-20 00:02:30\n",
       "12520      55.0   2.0  2.382829  0.433729 2023-01-20 00:02:30\n",
       "12521      55.0   3.0  1.784594  0.654404 2023-01-20 00:02:30\n",
       "12522      55.0   4.0  2.824801  0.306907 2023-01-20 00:02:30\n",
       "...         ...   ...       ...       ...                 ...\n",
       "13272639   75.0  26.0  1.600981  1.305146 2023-01-22 23:57:30\n",
       "13272640   75.0  27.0  3.044224  0.496190 2023-01-22 23:57:30\n",
       "13272641   75.0  28.0  3.072824  0.493060 2023-01-22 23:57:30\n",
       "13272642   75.0  29.0  3.869632  0.923307 2023-01-22 23:57:30\n",
       "13272643   75.0  30.0  2.185429  0.999940 2023-01-22 23:57:30\n",
       "\n",
       "[525428 rows x 5 columns]"
      ]
     },
     "execution_count": 5,
     "metadata": {},
     "output_type": "execute_result"
    }
   ],
   "source": [
    "LAT = [55,75]\n",
    "LONG = [0,30]\n",
    "\n",
    "df = pd.concat([df, df2, df3], axis=0, ignore_index=True)\n",
    "df = df.loc[(df['gdlat'] >= LAT[0]) & (df['gdlat'] <= LAT[1]) & (df['glon'] >= LONG[0]) & (df['glon'] <= LONG[1])]\n",
    "df = df.sort_values(by=['gdlat', 'datetime'], ascending=True)\n",
    "df"
   ]
  },
  {
   "cell_type": "markdown",
   "metadata": {},
   "source": [
    "Rolling average"
   ]
  },
  {
   "cell_type": "code",
   "execution_count": 6,
   "metadata": {},
   "outputs": [],
   "source": [
    "rolling_df = pd.DataFrame()\n",
    "\n",
    "for long in df['glon'].unique():\n",
    "    for lat in df['gdlat'].unique():\n",
    "        df5 = df.loc[(df['gdlat'] == lat) & (df['glon'] == long)]\n",
    "        moving_avg = df5['tec'].rolling(window=18, min_periods=1, center=True).mean()\n",
    "        rolling_df = pd.concat([rolling_df, moving_avg], axis=0)"
   ]
  },
  {
   "cell_type": "code",
   "execution_count": 7,
   "metadata": {},
   "outputs": [
    {
     "data": {
      "text/plain": [
       "count    525428.000000\n",
       "mean         -0.000661\n",
       "std           0.860997\n",
       "min          -9.413696\n",
       "25%          -0.437845\n",
       "50%          -0.006698\n",
       "75%           0.429933\n",
       "max          12.506999\n",
       "Name: detrended_tec, dtype: float64"
      ]
     },
     "execution_count": 7,
     "metadata": {},
     "output_type": "execute_result"
    }
   ],
   "source": [
    "df = pd.concat([df, rolling_df], axis=1)\n",
    "df['rolling'] = df[0]\n",
    "df = df.drop(columns=[0])\n",
    "df['detrended_tec'] = df['tec'] - df['rolling']\n",
    "df['detrended_tec'].describe()"
   ]
  },
  {
   "cell_type": "markdown",
   "metadata": {},
   "source": [
    "Smoothed plot"
   ]
  },
  {
   "cell_type": "code",
   "execution_count": 8,
   "metadata": {},
   "outputs": [],
   "source": [
    "def create_fig(datetime, df):\n",
    "    plt.figure(figsize=(8, 6))\n",
    "    dff = df.loc[df['datetime'] == datetime]\n",
    "    pivot = dff.pivot('gdlat', 'glon', 'detrended_tec')\n",
    "\n",
    "    sns.heatmap(pivot, cmap='viridis',vmin=-4, vmax=4)\n",
    "    #plt.axvline(x=20.53, color='black', lw=3)\n",
    "    plt.gca().invert_yaxis()\n",
    "\n",
    "    plt.xlabel('Longitude')\n",
    "    plt.ylabel('Latitude')\n",
    "    plt.title(f'Baseline removed TEC Heatmap at {datetime}')\n",
    "    plt.tight_layout()\n",
    "\n",
    "    buf = io.BytesIO()\n",
    "    plt.savefig(buf, format='png')\n",
    "    buf.seek(0)\n",
    "    plt.close()\n",
    "\n",
    "    heatmap_array = np.array(Image.open(buf))\n",
    "    return heatmap_array\n",
    "\n",
    "def update(frame):\n",
    "    heatmap = create_fig(frame, df)\n",
    "    plt.clf()\n",
    "    plt.imshow(heatmap)"
   ]
  },
  {
   "cell_type": "code",
   "execution_count": 9,
   "metadata": {},
   "outputs": [
    {
     "name": "stderr",
     "output_type": "stream",
     "text": [
      "C:\\Users\\virtanem\\AppData\\Local\\Temp\\ipykernel_19592\\308561026.py:4: FutureWarning: In a future version of pandas all arguments of DataFrame.pivot will be keyword-only.\n",
      "  pivot = dff.pivot('gdlat', 'glon', 'detrended_tec')\n"
     ]
    },
    {
     "data": {
      "image/png": "[encoded data removed]",
      "text/plain": [
       "<Figure size 640x480 with 1 Axes>"
      ]
     },
     "metadata": {},
     "output_type": "display_data"
    }
   ],
   "source": [
    "frames = sorted(df['datetime'].unique())\n",
    "fig, ax = plt.subplots()\n",
    "\n",
    "# Create the animation using ArtistAnimation\n",
    "animation = FuncAnimation(fig, update, frames=frames, interval=100)\n",
    "\n",
    "# Save the animation as a GIF file\n",
    "#animation.save('heatmap_animation.gif', writer='imagemagick')\n",
    "\n",
    "# Save the animation as an MP4 file (requires ffmpeg or avconv installed)\n",
    "animation.save('animations/heatmap_animation_18.mp4', writer='ffmpeg')\n"
   ]
  }
 ],
 "metadata": {
  "kernelspec": {
   "display_name": "base",
   "language": "python",
   "name": "python3"
  },
  "language_info": {
   "codemirror_mode": {
    "name": "ipython",
    "version": 3
   },
   "file_extension": ".py",
   "mimetype": "text/x-python",
   "name": "python",
   "nbconvert_exporter": "python",
   "pygments_lexer": "ipython3",
   "version": "3.9.17"
  },
  "orig_nbformat": 4
 },
 "nbformat": 4,
 "nbformat_minor": 2
}
