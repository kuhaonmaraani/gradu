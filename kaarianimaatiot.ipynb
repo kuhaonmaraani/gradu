{
 "cells": [
  {
   "cell_type": "code",
   "execution_count": 1,
   "metadata": {},
   "outputs": [
    {
     "name": "stderr",
     "output_type": "stream",
     "text": [
      "c:\\Users\\virtanem\\Anaconda3\\envs\\gradu\\Lib\\site-packages\\pyproj\\__init__.py:89: UserWarning: pyproj unable to set database path.\n",
      "  _pyproj_global_context_initialize()\n"
     ]
    }
   ],
   "source": [
    "import pandas as pd\n",
    "import numpy as np\n",
    "import matplotlib.pyplot as plt\n",
    "from datetime import timedelta\n",
    "from scipy.interpolate import griddata\n",
    "import cartopy.crs as ccrs\n",
    "from matplotlib.animation import FuncAnimation\n",
    "import cartopy.feature as cfeature\n",
    "from scipy.stats import binned_statistic_2d as histo2D"
   ]
  },
  {
   "cell_type": "code",
   "execution_count": 2,
   "metadata": {},
   "outputs": [],
   "source": [
    "path = 'data/filtered20230118.csv'\n",
    "\n",
    "dtypes = {'gps_site': str,\n",
    " 'sat_id': str,\n",
    " 'gdlatr': float,\n",
    " 'gdlonr': float,\n",
    " 'los_tec': float,\n",
    " 'tec': float,\n",
    " 'azm': float,\n",
    " 'elm': float,\n",
    " 'gdlat': float,\n",
    " 'glon': float,\n",
    " 'gnss_type': str,\n",
    " 'slant_f': float,\n",
    " 'vtec': float,\n",
    " 'pair_id': str,\n",
    " 'curve_id': int,\n",
    " 'filtered': float,\n",
    " 'blrmvd': float}\n",
    "\n",
    "raw = pd.read_csv(path, dtype=dtypes)\n",
    "\n",
    "raw['datetime'] = pd.to_datetime(raw['datetime'])"
   ]
  },
  {
   "cell_type": "markdown",
   "metadata": {},
   "source": [
    "## Delete the first and last 15 mins of each curve + elevation filter + filter out night time data + change interval to 1 minute"
   ]
  },
  {
   "cell_type": "code",
   "execution_count": null,
   "metadata": {},
   "outputs": [],
   "source": [
    "MIN_ELEVATION = 20\n",
    "DAYTIME = [6, 18]\n",
    "blip = True\n",
    "\n",
    "def trim_curve(group):\n",
    "    group = group.sort_values('datetime')\n",
    "    start_time = group['datetime'].iloc[0] + timedelta(minutes=15)\n",
    "    end_time = group['datetime'].iloc[-1] - timedelta(minutes=15)\n",
    "    return group[(group['datetime'] >= start_time) & (group['datetime'] <= end_time)]\n",
    "\n",
    "data = raw.groupby(['pair_id', 'curve_id']).apply(trim_curve).reset_index(drop=True)\n",
    "\n",
    "data = data[(data['datetime'].dt.hour >=  DAYTIME[0]) & \n",
    "            (data['datetime'].dt.hour < DAYTIME[1]) & \n",
    "            (data['elm'] > MIN_ELEVATION)]\n",
    "\n",
    "if not blip:\n",
    "    data['datetime'] = data['datetime'].dt.floor('min')  "
   ]
  },
  {
   "cell_type": "markdown",
   "metadata": {},
   "source": [
    "## Creating the animation"
   ]
  },
  {
   "cell_type": "markdown",
   "metadata": {},
   "source": [
    "### blip pierce points"
   ]
  },
  {
   "cell_type": "code",
   "execution_count": null,
   "metadata": {},
   "outputs": [],
   "source": [
    "def pp(frame):\n",
    "    df1 = data.loc[data['datetime'] == frame]\n",
    "    ax.set_title(f'Baseline removed VTEC at {frame}') # type: ignore\n",
    "\n",
    "    for c in ax.collections: # type: ignore\n",
    "        c.remove()\n",
    "\n",
    "    ax.scatter(df1['glon'], df1['gdlat'],c= df1['blrmvd'], cmap='plasma', vmin=-2, vmax=2) # type: ignore"
   ]
  },
  {
   "cell_type": "code",
   "execution_count": null,
   "metadata": {},
   "outputs": [],
   "source": [
    "if blip:  \n",
    "   \n",
    "    frames = sorted(data['datetime'].unique())\n",
    "    df0 = data.loc[data['datetime'] == frames[0]]\n",
    "\n",
    "    fig, ax = plt.subplots(figsize=(10, 10), subplot_kw={'projection': ccrs.PlateCarree()})\n",
    "\n",
    "    ax.coastlines()\n",
    "    ax.add_feature(cfeature.BORDERS, linestyle=':')\n",
    "    ax.set_xticks(np.arange(19, 32, 1))\n",
    "    ax.set_yticks(np.arange(59, 72, 1))\n",
    "    ax.set_xlabel('Longitude')\n",
    "    ax.set_ylabel('Latitude')\n",
    "    ax.set_xlim(10, 40)\n",
    "    ax.set_ylim(55, 75)\n",
    "\n",
    "    contour = ax.scatter(df0['glon'], df0['gdlat'],c= df0['blrmvd'], cmap='plasma', vmin=-2, vmax=2)\n",
    "\n",
    "    fig.subplots_adjust(right=0.8)\n",
    "    cax = fig.add_axes([0.85, 0.155, 0.05, 0.67]) # type: ignore\n",
    "\n",
    "    cbar = plt.colorbar(contour, cax=cax, orientation='vertical',\n",
    "                        extendrect = True, label='VTEC',\n",
    "                        ticks=np.arange(-2,2.5,0.5),\n",
    "                        boundaries = np.arange(-2,2.5,0.5), \n",
    "                        extend='both'\n",
    "    )\n",
    "\n",
    "    animation = FuncAnimation(fig, pp, frames=frames[1:], interval=30) # type: ignore\n",
    "\n",
    "    animation.save('blip_animation.gif')\n",
    "\n",
    "    data['datetime'] = data['datetime'].dt.floor('min')\n"
   ]
  },
  {
   "cell_type": "markdown",
   "metadata": {},
   "source": [
    "### pierce points"
   ]
  },
  {
   "cell_type": "code",
   "execution_count": null,
   "metadata": {},
   "outputs": [],
   "source": [
    "frames = sorted(data['datetime'].unique())\n",
    "df0 = data.loc[data['datetime'] == frames[0]]\n",
    "\n",
    "fig, ax = plt.subplots(figsize=(10, 10), subplot_kw={'projection': ccrs.PlateCarree()})\n",
    "\n",
    "ax.coastlines()\n",
    "ax.add_feature(cfeature.BORDERS, linestyle=':')\n",
    "ax.set_xticks(np.arange(19, 32, 1))\n",
    "ax.set_yticks(np.arange(59, 72, 1))\n",
    "ax.set_xlabel('Longitude')\n",
    "ax.set_ylabel('Latitude')\n",
    "ax.set_xlim(10, 40)\n",
    "ax.set_ylim(55, 75)\n",
    "\n",
    "contour = ax.scatter(df0['glon'], df0['gdlat'],c= df0['blrmvd'], cmap='plasma', vmin=-2, vmax=2)\n",
    "\n",
    "fig.subplots_adjust(right=0.8)\n",
    "cax = fig.add_axes([0.85, 0.155, 0.05, 0.67]) # type: ignore\n",
    "\n",
    "cbar = plt.colorbar(contour, cax=cax, orientation='vertical',\n",
    "                    extendrect = True, label='VTEC',\n",
    "                    ticks=np.arange(-2,2.5,0.5),\n",
    "                    boundaries = np.arange(-2,2.5,0.5), \n",
    "                    extend='both'\n",
    ")\n",
    "\n",
    "animation = FuncAnimation(fig, pp, frames=frames[1:], interval=30) # type: ignore\n",
    "\n",
    "animation.save('pp_animation.gif')"
   ]
  },
  {
   "cell_type": "markdown",
   "metadata": {},
   "source": [
    "### 2D histogram"
   ]
  },
  {
   "cell_type": "code",
   "execution_count": null,
   "metadata": {},
   "outputs": [],
   "source": [
    "RES = 0.5\n",
    "\n",
    "def histo(frame):\n",
    "    df1 = data.loc[data['datetime'] == frame]\n",
    "    ax.set_title(f'Baseline removed VTEC at {frame} with resolution {RES}')\n",
    "\n",
    "    statistic, x_edges, y_edges, _ = histo2D(\n",
    "        df1['glon'], df1['gdlat'], df1['blrmvd'], statistic='mean', \n",
    "        bins=[np.arange(10, 40 + RES, RES), np.arange(55, 75 + RES, RES)]) # type: ignore\n",
    "\n",
    "    X, Y = np.meshgrid((x_edges[:-1] + x_edges[1:]) / 2, (y_edges[:-1] + y_edges[1:]) / 2)\n",
    "    \n",
    "    for c in ax.collections:\n",
    "        c.remove()\n",
    "    \n",
    "    ax.contourf(X, Y, statistic.T, cmap='plasma', vmin=-2, vmax=2, \n",
    "                        levels=np.linspace(-2, 2, 9), \n",
    "                        extend='both', transform=ccrs.PlateCarree())\n",
    "    \n",
    "    \n",
    "    \n",
    "\n",
    "frames = sorted(data['datetime'].unique())\n",
    "df0 = data.loc[data['datetime'] == frames[0]]\n",
    "\n",
    "fig, ax = plt.subplots(figsize=(10, 10), subplot_kw={'projection': ccrs.PlateCarree()})\n",
    "\n",
    "ax.coastlines()\n",
    "ax.add_feature(cfeature.BORDERS, linestyle=':')\n",
    "ax.set_xticks(np.arange(19, 32, 1))\n",
    "ax.set_yticks(np.arange(59, 72, 1))\n",
    "ax.set_xlabel('Longitude')\n",
    "ax.set_ylabel('Latitude')\n",
    "ax.set_xlim(10, 40)\n",
    "ax.set_ylim(55, 75)\n",
    "ax.set_title(f'Baseline removed VTEC at {frames[0]} with resolution {RES}')\n",
    "\n",
    "statistic, x_edges, y_edges, _ = histo2D(\n",
    "    df0['glon'], df0['gdlat'], df0['blrmvd'], statistic='mean', \n",
    "    bins=[np.arange(10, 40 + RES, RES), np.arange(55, 75 + RES, RES)]) # type: ignore\n",
    "\n",
    "X, Y = np.meshgrid((x_edges[:-1] + x_edges[1:]) / 2, (y_edges[:-1] + y_edges[1:]) / 2)\n",
    "contour = ax.contourf(X, Y, statistic.T, cmap='plasma', vmin=-2, vmax=2, \n",
    "                    levels=np.linspace(-2, 2, 9), \n",
    "                    extend='both', transform=ccrs.PlateCarree())\n",
    "    \n",
    "\n",
    "\n",
    "fig.subplots_adjust(right=0.8)\n",
    "cax = fig.add_axes([0.85, 0.155, 0.05, 0.67]) # type: ignore\n",
    "\n",
    "cbar = plt.colorbar(contour, cax=cax, orientation='vertical',\n",
    "                    extendrect = True, label='VTEC',\n",
    "                    ticks=np.arange(-2,2.5,0.5),\n",
    "                    boundaries = np.arange(-2,2.5,0.5), \n",
    "                    extend='both'\n",
    ")\n",
    "\n",
    "\n",
    "animation = FuncAnimation(fig, histo, frames=frames[1:], interval=30) # type: ignore\n",
    "\n",
    "animation.save('heatmap_animation_h.gif')"
   ]
  },
  {
   "cell_type": "markdown",
   "metadata": {},
   "source": [
    "### pcolormesh"
   ]
  },
  {
   "cell_type": "code",
   "execution_count": null,
   "metadata": {},
   "outputs": [],
   "source": [
    "METHOD = 'nearest'\n",
    "RES = 0.25\n",
    "\n",
    "def mesh(frame):\n",
    "    df1 = data.loc[data['datetime'] == frame]\n",
    "    ax.set_title(f'Baseline removed binned vtec at {frame} \\nwith resolution {RES} and {METHOD} method')\n",
    "    Z = griddata((df1['glon'], df1['gdlat']), df1['blrmvd'], (X, Y))\n",
    "\n",
    "    for c in ax.collections:\n",
    "        c.remove()\n",
    "\n",
    "    ax.pcolormesh(x_grid, y_grid, Z, cmap='plasma', shading='nearest', vmin=-2, vmax=2)\n",
    "\n",
    "\n",
    "frames = sorted(data['datetime'].unique())\n",
    "df0 = data.loc[data['datetime'] == frames[0]]\n",
    "\n",
    "fig, ax = plt.subplots(figsize=(10, 10), subplot_kw={'projection': ccrs.PlateCarree()})\n",
    "\n",
    "ax.coastlines()\n",
    "ax.add_feature(cfeature.BORDERS, linestyle=':')\n",
    "ax.set_xticks(np.arange(19, 32, 1))\n",
    "ax.set_yticks(np.arange(59, 72, 1))\n",
    "ax.set_xlabel('Longitude')\n",
    "ax.set_ylabel('Latitude')\n",
    "ax.set_xlim(10, 40)\n",
    "ax.set_ylim(55, 75)\n",
    "ax.set_title(f'Baseline removed binned vtec at {frames[0]} \\nwith resolution {RES} and {METHOD} method')\n",
    "\n",
    "x_grid = np.arange(min(data['glon']), max(data['glon']) + RES, RES)\n",
    "y_grid = np.arange(min(data['gdlat']), max(data['gdlat']) + RES, RES)\n",
    "X, Y = np.meshgrid(x_grid, y_grid)\n",
    "Z = griddata((df0['glon'], df0['gdlat']), df0['blrmvd'], (X, Y))\n",
    "\n",
    "contour = ax.pcolormesh(x_grid, y_grid, Z, cmap='plasma', shading='nearest', vmin=-2, vmax=2)    \n",
    "\n",
    "\n",
    "\n",
    "fig.subplots_adjust(right=0.8)\n",
    "cax = fig.add_axes([0.85, 0.155, 0.05, 0.67]) # type: ignore\n",
    "\n",
    "cbar = plt.colorbar(contour, cax=cax, orientation='vertical',\n",
    "                    extendrect = True, label='VTEC',\n",
    "                    ticks=np.arange(-2,2.5,0.5),\n",
    "                    boundaries = np.arange(-2,2.5,0.5), \n",
    "                    extend='both'\n",
    ")\n",
    "\n",
    "\n",
    "animation = FuncAnimation(fig, mesh, frames=frames[1:], interval=30) # type: ignore\n",
    "\n",
    "animation.save('heatmap_animation_p.gif')"
   ]
  }
 ],
 "metadata": {
  "kernelspec": {
   "display_name": "gradu",
   "language": "python",
   "name": "python3"
  },
  "language_info": {
   "codemirror_mode": {
    "name": "ipython",
    "version": 3
   },
   "file_extension": ".py",
   "mimetype": "text/x-python",
   "name": "python",
   "nbconvert_exporter": "python",
   "pygments_lexer": "ipython3",
   "version": "3.12.3"
  }
 },
 "nbformat": 4,
 "nbformat_minor": 2
}
