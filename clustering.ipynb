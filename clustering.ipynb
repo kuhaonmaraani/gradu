{
 "cells": [
  {
   "cell_type": "code",
   "execution_count": 1,
   "metadata": {},
   "outputs": [],
   "source": [
    "import pandas as pd\n",
    "import numpy as np\n",
    "import os\n",
    "from sklearn.cluster import KMeans\n",
    "from sklearn.impute import SimpleImputer\n",
    "import matplotlib.pyplot as plt\n",
    "import math\n",
    "import datetime as dt"
   ]
  },
  {
   "cell_type": "code",
   "execution_count": 2,
   "metadata": {},
   "outputs": [],
   "source": [
    "# Load the CSV files into a list of DataFrames\n",
    "data_dir = \"data/keog/\"\n",
    "\n",
    "os.environ['OMP_NUM_THREADS'] = '1'\n",
    "\n",
    "PRINT = False\n",
    "SAVE = False\n",
    "dataframes = []\n",
    "dates = []\n",
    "\n",
    "for file in os.listdir(data_dir):\n",
    "    if file.endswith('.csv'):\n",
    "        df = pd.read_csv(os.path.join(data_dir, file))\n",
    "        dataframes.append(df)"
   ]
  },
  {
   "cell_type": "code",
   "execution_count": null,
   "metadata": {},
   "outputs": [
    {
     "name": "stderr",
     "output_type": "stream",
     "text": [
      "c:\\Users\\Maria\\anaconda3\\envs\\gradu\\Lib\\site-packages\\sklearn\\impute\\_base.py:598: UserWarning: Skipping features without any observed values: [106]. At least one non-missing value is needed for imputation with strategy='mean'.\n",
      "  warnings.warn(\n",
      "c:\\Users\\Maria\\anaconda3\\envs\\gradu\\Lib\\site-packages\\sklearn\\impute\\_base.py:598: UserWarning: Skipping features without any observed values: [59 60 61 62]. At least one non-missing value is needed for imputation with strategy='mean'.\n",
      "  warnings.warn(\n"
     ]
    }
   ],
   "source": [
    "heatmaps = []  \n",
    "heatmaps_imputed = []  \n",
    "\n",
    "imputer = SimpleImputer(strategy='mean')\n",
    "\n",
    "for df in dataframes:\n",
    "    XX, YY = np.meshgrid(df['time_seconds'].unique(), df['gdlat'].unique())\n",
    "    ZZ = df['blrmvd'].values\n",
    "    ZZ = np.reshape(ZZ, XX.T.shape).T\n",
    "\n",
    "    heatmaps.append(ZZ)\n",
    "\n",
    "    hmi = imputer.fit_transform(ZZ).flatten()\n",
    "    if hmi.size == 1125:\n",
    "        heatmaps_imputed.append(hmi)\n",
    "        first_date = df['datetime'].iloc[0][:10]\n",
    "        dates.append(first_date)\n",
    "    else:\n",
    "        continue\n",
    "\n",
    "heatmaps_imputed = np.vstack(heatmaps_imputed)"
   ]
  },
  {
   "cell_type": "code",
   "execution_count": 4,
   "metadata": {},
   "outputs": [],
   "source": [
    "num_clus = 4\n",
    "kmeans = KMeans(n_clusters=num_clus)  \n",
    "labels = kmeans.fit_predict(heatmaps_imputed)\n",
    "\n",
    "if PRINT:\n",
    "    for i in range(num_clus):\n",
    "        cluster_indices = np.where(labels == i)[0]\n",
    "        print(f\"Cluster {i}:\")\n",
    "        for idx in cluster_indices:\n",
    "            print(f\" - Date: {dates[idx]}\")"
   ]
  },
  {
   "cell_type": "code",
   "execution_count": 5,
   "metadata": {},
   "outputs": [],
   "source": [
    "if PRINT:\n",
    "    for i in range(num_clus):\n",
    "        cluster_indices = np.where(labels == i)[0]\n",
    "        n_images = len(cluster_indices)\n",
    "        print(f\"Cluster {i}: {n_images} heatmaps\")\n",
    "\n",
    "        # Setup subplot grid\n",
    "        n_cols = 5\n",
    "        n_rows = math.ceil(n_images / n_cols)\n",
    "        fig, axes = plt.subplots(n_rows, n_cols, figsize=(3*n_cols, 2*n_rows))\n",
    "        axes = axes.flatten()  # Flatten for easy indexing\n",
    "\n",
    "        for j, idx in enumerate(cluster_indices):\n",
    "            ax = axes[j]\n",
    "            ax.imshow(heatmaps[idx], aspect='auto', cmap='viridis')\n",
    "            ax.set_title(f\"Heatmap {idx}\\n{dates[idx]}\")\n",
    "            ax.axis('off')  # Hide axes for cleaner layout\n",
    "\n",
    "        # Hide unused subplots\n",
    "        for k in range(j+1, len(axes)):\n",
    "            axes[k].axis('off')\n",
    "\n",
    "        fig.suptitle(f'Cluster {i}', fontsize=16)\n",
    "        fig.tight_layout(rect=[0, 0, 1, 0.96])  # Leave space for title\n",
    "        plt.show()"
   ]
  },
  {
   "cell_type": "code",
   "execution_count": 6,
   "metadata": {},
   "outputs": [],
   "source": [
    "if SAVE:\n",
    "    data = {'dates': dates, 'labels':labels}\n",
    "    datadf = pd.DataFrame(data, columns=['dates', 'labels'])\n",
    "    datadf.to_csv(f'data/klusterit/klusteri{k}.csv')\n",
    "    pd.DataFrame(dates, columns=['date']).to_csv('data/dates.csv', index=False)\n",
    "\n",
    "if PRINT:\n",
    "    print(dates)\n",
    "    print(labels)"
   ]
  },
  {
   "cell_type": "code",
   "execution_count": 7,
   "metadata": {},
   "outputs": [],
   "source": [
    "ks = [2,3,4,5,6,7,8,9,10,15,25,30]\n",
    "clusters = {'dates':dates}\n",
    "for k in ks:\n",
    "    kmeans = KMeans(n_clusters=k) \n",
    "    labels = kmeans.fit_predict(heatmaps_imputed)\n",
    "    clusters['k'+str(k)] = list(labels)\n",
    "\n",
    "if SAVE:\n",
    "    pd.DataFrame(clusters).to_csv('data/clusterdf.csv', index=False)\n"
   ]
  },
  {
   "cell_type": "code",
   "execution_count": 8,
   "metadata": {},
   "outputs": [],
   "source": [
    "nruns = 100\n",
    "jakaumat = {}\n",
    "\n",
    "\n",
    "for k in ks:\n",
    "    jakaumat[f'{k}'] = []\n",
    "    for i in range(nruns):\n",
    "        kmeans = KMeans(n_clusters=k) \n",
    "        labels = kmeans.fit_predict(heatmaps_imputed)\n",
    "        jak = sorted([len(np.where(labels == j)[0]) for j in range(k)], reverse=True)\n",
    "        jakaumat[f'{k}'].append(jak)\n"
   ]
  },
  {
   "cell_type": "code",
   "execution_count": 9,
   "metadata": {},
   "outputs": [],
   "source": [
    "ykkosluvut = {}\n",
    "muut = {}\n",
    "\n",
    "for i in jakaumat:\n",
    "    ykkosluvut[i] = []\n",
    "    muut[i] = []\n",
    "    for run in jakaumat[i]:\n",
    "        indexit = np.where(np.array(run) == 1)[0]\n",
    "        ykkosluvut[i].append(len(indexit))\n",
    "        if len(indexit) > 0:\n",
    "            muut[i].append(run[:indexit[0]])\n",
    "        else:\n",
    "            muut[i].append(run)\n"
   ]
  },
  {
   "cell_type": "code",
   "execution_count": 10,
   "metadata": {},
   "outputs": [
    {
     "name": "stdout",
     "output_type": "stream",
     "text": [
      "2 0.58 0.29 58\n",
      "3 1.25 0.4166666666666667 125\n",
      "4 1.98 0.495 198\n",
      "5 2.55 0.51 255\n",
      "6 3.28 0.5466666666666666 328\n",
      "7 3.86 0.5514285714285714 386\n",
      "8 4.85 0.60625 485\n",
      "9 5.81 0.6455555555555555 581\n",
      "10 6.29 0.629 629\n",
      "15 10.31 0.6873333333333334 1031\n",
      "25 19.76 0.7904000000000001 1976\n",
      "30 24.11 0.8036666666666666 2411\n"
     ]
    }
   ],
   "source": [
    "for i in ykkosluvut:\n",
    "    print(i, np.average(ykkosluvut[i]), np.average(ykkosluvut[i])/int(i), sum(ykkosluvut[i]))"
   ]
  },
  {
   "cell_type": "code",
   "execution_count": 11,
   "metadata": {},
   "outputs": [],
   "source": [
    "maxit = {'1':[], '2':[], '3':[]}\n",
    "ykone = {}\n",
    "\n",
    "for key in muut:\n",
    "    ykone[key] = []\n",
    "    for vals in muut[key]:\n",
    "        ykone[key].append(vals[0])\n",
    "        for z in range(0,len(vals)):\n",
    "            try:\n",
    "                maxit[str(z+1)].append(vals[z])\n",
    "            except:\n",
    "                continue\n"
   ]
  },
  {
   "cell_type": "code",
   "execution_count": 12,
   "metadata": {},
   "outputs": [
    {
     "data": {
      "text/plain": [
       "(102.15916666666666, 22.96759259259259, 9.75)"
      ]
     },
     "execution_count": 12,
     "metadata": {},
     "output_type": "execute_result"
    }
   ],
   "source": [
    "np.average(maxit['1']), np.average(maxit['2']), np.average(maxit['3'])"
   ]
  },
  {
   "cell_type": "code",
   "execution_count": 13,
   "metadata": {},
   "outputs": [
    {
     "data": {
      "text/plain": [
       "(20.4979795582936, 7.204927952240894, 6.421457704261475)"
      ]
     },
     "execution_count": 13,
     "metadata": {},
     "output_type": "execute_result"
    }
   ],
   "source": [
    "np.std(maxit['1']), np.std(maxit['2']), np.std(maxit['3']) "
   ]
  },
  {
   "cell_type": "code",
   "execution_count": 14,
   "metadata": {},
   "outputs": [
    {
     "name": "stdout",
     "output_type": "stream",
     "text": [
      "2 128.47\n",
      "3 121.1\n",
      "4 114.65\n",
      "5 111.73\n",
      "6 108.92\n",
      "7 103.79\n",
      "8 102.07\n",
      "9 100.45\n",
      "10 96.27\n",
      "15 87.44\n",
      "25 76.38\n",
      "30 74.64\n"
     ]
    }
   ],
   "source": [
    "for kykoset in ykone:\n",
    "    print(kykoset, np.average(ykone[kykoset]))"
   ]
  },
  {
   "cell_type": "code",
   "execution_count": 30,
   "metadata": {},
   "outputs": [],
   "source": [
    "hairiot = [dt.date(2019, 2, 28),\n",
    " dt.date(2019, 6, 10),\n",
    " dt.date(2019, 6, 13),\n",
    " dt.date(2019, 7, 1),\n",
    " dt.date(2019, 8, 30),\n",
    " dt.date(2019, 9, 2),\n",
    " dt.date(2019, 10, 29),\n",
    " dt.date(2020, 9, 23),\n",
    " dt.date(2021, 1, 15),\n",
    " dt.date(2021, 11, 6),\n",
    " dt.date(2022, 1, 3),\n",
    " dt.date(2022, 1, 4),\n",
    " dt.date(2022, 3, 13),\n",
    " dt.date(2022, 3, 25),\n",
    " dt.date(2023, 2, 27)]\n",
    "\n",
    "\n",
    "\n",
    "dates = [dt.datetime.strptime(d, \"%Y-%m-%d\").date() for d in dates]\n"
   ]
  },
  {
   "cell_type": "code",
   "execution_count": 57,
   "metadata": {},
   "outputs": [
    {
     "data": {
      "image/png": "[encoded data removed]",
      "text/plain": [
       "<Figure size 1000x600 with 1 Axes>"
      ]
     },
     "metadata": {},
     "output_type": "display_data"
    }
   ],
   "source": [
    "kmeans = KMeans(n_clusters=8)\n",
    "labels = kmeans.fit_predict(heatmaps_imputed)\n",
    "\n",
    "fig, ax = plt.subplots(figsize=(10, 6))\n",
    "\n",
    "\n",
    "anomaly_indices = [i for i, d in enumerate(dates) if d in hairiot]\n",
    "regular_indices = [i for i, d in enumerate(dates) if d not in hairiot]\n",
    "\n",
    "ax.scatter(\n",
    "    [dates[i] for i in regular_indices],\n",
    "    [labels[i] for i in regular_indices],\n",
    "    color='green',\n",
    "    alpha=0.5,\n",
    "    label='Regular day'\n",
    ")\n",
    "\n",
    "ax.scatter(\n",
    "    [dates[i] for i in anomaly_indices],\n",
    "    [labels[i] for i in anomaly_indices],\n",
    "    color='black',\n",
    "    alpha=1.0,\n",
    "    label='Anomaly day'\n",
    ")\n",
    "\n",
    "\n",
    "ax.grid(True)\n",
    "ax.legend()\n",
    "ax.set_yticks(range(0, 8))\n",
    "plt.title('Scatter plot of regular days and anomaly days of each cluster\\nNumber of clusters k=8')\n",
    "plt.ylabel('Cluster number')\n",
    "plt.xlabel('Year and month')\n",
    "plt.tight_layout()\n",
    "plt.show()"
   ]
  }
 ],
 "metadata": {
  "kernelspec": {
   "display_name": "gradu",
   "language": "python",
   "name": "python3"
  },
  "language_info": {
   "codemirror_mode": {
    "name": "ipython",
    "version": 3
   },
   "file_extension": ".py",
   "mimetype": "text/x-python",
   "name": "python",
   "nbconvert_exporter": "python",
   "pygments_lexer": "ipython3",
   "version": "3.13.5"
  }
 },
 "nbformat": 4,
 "nbformat_minor": 2
}
