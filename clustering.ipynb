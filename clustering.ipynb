{
 "cells": [
  {
   "cell_type": "code",
   "execution_count": null,
   "metadata": {},
   "outputs": [],
   "source": [
    "import cv2\n",
    "import numpy as np\n",
    "import os\n",
    "from sklearn.decomposition import PCA\n",
    "from sklearn.cluster import KMeans\n",
    "from sklearn.preprocessing import StandardScaler\n"
   ]
  },
  {
   "cell_type": "code",
   "execution_count": null,
   "metadata": {},
   "outputs": [],
   "source": [
    "image_dir = \"path_to_keograms\"\n",
    "images = []\n",
    "for file in os.listdir(image_dir):\n",
    "    img = cv2.imread(os.path.join(image_dir, file), cv2.IMREAD_GRAYSCALE)\n",
    "    if img is not None:\n",
    "        images.append(img.flatten())  # Flatten the image into a vector\n"
   ]
  },
  {
   "cell_type": "code",
   "execution_count": null,
   "metadata": {},
   "outputs": [],
   "source": [
    "# Convert to a NumPy array\n",
    "images = np.array(images)\n",
    "\n",
    "# Standardize the data\n",
    "scaler = StandardScaler()\n",
    "images_scaled = scaler.fit_transform(images)\n",
    "\n",
    "\n"
   ]
  },
  {
   "cell_type": "code",
   "execution_count": null,
   "metadata": {},
   "outputs": [],
   "source": [
    "# Apply PCA\n",
    "pca = PCA(n_components=50)  # Adjust the number of components as needed\n",
    "images_pca = pca.fit_transform(images_scaled)\n",
    "\n",
    "# Apply K-Means Clustering\n",
    "kmeans = KMeans(n_clusters=5)  # Choose the number of clusters\n",
    "labels = kmeans.fit_predict(images_pca)"
   ]
  }
 ],
 "metadata": {
  "kernelspec": {
   "display_name": "gradu",
   "language": "python",
   "name": "python3"
  },
  "language_info": {
   "name": "python",
   "version": "3.12.4"
  }
 },
 "nbformat": 4,
 "nbformat_minor": 2
}
